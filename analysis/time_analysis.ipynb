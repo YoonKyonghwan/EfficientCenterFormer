{
 "cells": [
  {
   "cell_type": "code",
   "execution_count": null,
   "metadata": {},
   "outputs": [],
   "source": [
    "\n",
    "import sqlite3\n",
    "import pandas as pd\n",
    "\n",
    "# get the data from the database\n",
    "def extract_data(sqlite_file, model_name, visualize=False):\n",
    "    conn = sqlite3.connect(sqlite_file)\n",
    "    nvtx_df = pd.read_sql_query(\"SELECT start, end, textId FROM NVTX_EVENTS\", conn)\n",
    "    stringID_df = pd.read_sql_query(\"SELECT * FROM StringIds\", conn)\n",
    "    conn.close()\n",
    "    \n",
    "    nvtx_df['duration(ms)'] = ((nvtx_df['end'] - nvtx_df['start']) / 1000000) # (ns -> ms)\n",
    "    \n",
    "    nvtx_df = pd.merge(nvtx_df, stringID_df, left_on='textId', right_on='id', how='left')\n",
    "    nvtx_df = nvtx_df.drop(['textId', 'id', 'start', 'end'], axis=1)\n",
    "    nvtx_df = nvtx_df.rename(columns={'value': 'function_name'})\n",
    "    \n",
    "    functionList = [\"3D_backbone\", \"bbox_head\", \"find_centers\",\"post_processing\", \"reader\", \"transformer\"]\n",
    "    nvtx_df = nvtx_df[nvtx_df['function_name'].isin(functionList)]\n",
    "    nvtx_df = nvtx_df.groupby(['function_name']).mean()\n",
    "    \n",
    "    if visualize:\n",
    "        title = model_name + ' profiling result(%)'\n",
    "        nvtx_df.plot.pie(y='duration(ms)', figsize=(12, 5), title=title, autopct='%1.1f%%', xlabel='', ylabel='', legend=False)\n",
    "    \n",
    "    # total duration을 구함\n",
    "    total_duration = nvtx_df['duration(ms)'].sum()\n",
    "    nvtx_df.loc['total_duration'] = total_duration\n",
    "    nvtx_df['model_name'] = model_name\n",
    "    \n",
    "    return nvtx_df\n"
   ]
  },
  {
   "cell_type": "code",
   "execution_count": null,
   "metadata": {},
   "outputs": [],
   "source": [
    "result_dir = 'results/time'\n",
    "file_names = ['baseline', 'poolformer', 'mem_opt', 'trt_32', 'trt_16', 'backbone_opt']\n",
    "\n",
    "dataframes = []\n",
    "for file_name in file_names:\n",
    "    sqlite_file = f'{result_dir}/{file_name}.sqlite'\n",
    "    model_df = extract_data(sqlite_file, file_name, visualize=False)\n",
    "    dataframes.append(model_df)\n",
    "\n",
    "combined_df = pd.concat(dataframes)\n",
    "combined_df = combined_df.reset_index()\n",
    "combined_df = combined_df.pivot(index='model_name', columns='function_name', values='duration(ms)')\n",
    "\n",
    "# column reordering\n",
    "column_order = ['reader', '3D_backbone', 'find_centers', 'transformer', 'bbox_head', 'post_processing', 'total_duration']\n",
    "combined_df = combined_df.reindex(column_order, axis=1)\n",
    "\n",
    "row_order = ['baseline', 'poolformer', 'mem_opt', 'trt_32', 'trt_16', 'backbone_opt']\n",
    "combined_df = combined_df.reindex(row_order)"
   ]
  },
  {
   "cell_type": "code",
   "execution_count": null,
   "metadata": {},
   "outputs": [],
   "source": [
    "combined_df"
   ]
  }
 ],
 "metadata": {
  "kernelspec": {
   "display_name": "centerformer",
   "language": "python",
   "name": "python3"
  },
  "language_info": {
   "codemirror_mode": {
    "name": "ipython",
    "version": 3
   },
   "file_extension": ".py",
   "mimetype": "text/x-python",
   "name": "python",
   "nbconvert_exporter": "python",
   "pygments_lexer": "ipython3",
   "version": "3.8.10"
  }
 },
 "nbformat": 4,
 "nbformat_minor": 2
}

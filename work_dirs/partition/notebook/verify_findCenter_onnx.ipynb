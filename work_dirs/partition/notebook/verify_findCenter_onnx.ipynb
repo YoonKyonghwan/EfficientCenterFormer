{
 "cells": [
  {
   "cell_type": "markdown",
   "metadata": {},
   "source": [
    "## Pytorch"
   ]
  },
  {
   "cell_type": "code",
   "execution_count": 29,
   "metadata": {},
   "outputs": [
    {
     "name": "stdout",
     "output_type": "stream",
     "text": [
      "[12/19/2023-01:50:55] [TRT] [W] CUDA lazy loading is not enabled. Enabling it can significantly reduce device memory usage. See `CUDA_MODULE_LOADING` in https://docs.nvidia.com/cuda/cuda-c-programming-guide/index.html#env-vars\n",
      "Use HM Bias:  -2.19\n"
     ]
    }
   ],
   "source": [
    "import torch\n",
    "from det3d.torchie import Config\n",
    "from det3d.models import build_detector\n",
    "from det3d.torchie.trainer import load_checkpoint\n",
    "\n",
    "config = \"/workspace/centerformer/configs/nusc/nuscenes_centerformer_poolformer.py\"\n",
    "\n",
    "cfg = Config.fromfile(config)\n",
    "checkpoint_path = \"/workspace/centerformer/work_dirs/nuscenes_poolformer/poolformer.pth\"\n",
    "\n",
    "model = build_detector(cfg.model, train_cfg=None, test_cfg=cfg.test_cfg)\n",
    "checkpoint = load_checkpoint(model, checkpoint_path, map_location=\"cpu\")\n",
    "model.cuda()\n",
    "model.eval();"
   ]
  },
  {
   "cell_type": "code",
   "execution_count": 30,
   "metadata": {},
   "outputs": [],
   "source": [
    "import pickle\n",
    "pickle_dir = \"/workspace/centerformer/work_dirs/partition/sample_data/\"\n",
    "\n",
    "with open(pickle_dir + \"findcenter_input.pkl\", 'rb') as handle:\n",
    "    x = pickle.load(handle)"
   ]
  },
  {
   "cell_type": "code",
   "execution_count": 31,
   "metadata": {},
   "outputs": [],
   "source": [
    "with torch.no_grad():\n",
    "    ct_feat, center_pos_embedding, out_scores, out_labels, out_orders, out_masks = model.neck.find_centers(x)"
   ]
  },
  {
   "cell_type": "markdown",
   "metadata": {},
   "source": [
    "## onnxruntime"
   ]
  },
  {
   "cell_type": "code",
   "execution_count": 32,
   "metadata": {},
   "outputs": [],
   "source": [
    "import onnxruntime as ort\n",
    "import numpy as np\n",
    "\n",
    "onnx_path = \"/data/centerformer/work_dirs/partition/onnx/findCenter_sanitized.onnx\"\n",
    "\n",
    "with open(pickle_dir + \"findcenter_input.pkl\", 'rb') as handle:\n",
    "    x = pickle.load(handle)\n",
    "input_ort = x.cpu().numpy()\n",
    "providers = ['CUDAExecutionProvider', 'CPUExecutionProvider']\n",
    "ort_sess = ort.InferenceSession(onnx_path, providers=providers)\n",
    "output_names = [output.name for output in ort_sess.get_outputs()]"
   ]
  },
  {
   "cell_type": "code",
   "execution_count": 33,
   "metadata": {},
   "outputs": [],
   "source": [
    "ct_feat_ort, center_pos_embedding_ort, out_scores_ort, out_labels_ort, out_orders_ort, out_masks_ort = ort_sess.run(output_names, {'input_tensor': input_ort})"
   ]
  },
  {
   "cell_type": "code",
   "execution_count": 34,
   "metadata": {},
   "outputs": [],
   "source": [
    "ct_feat_ort = torch.from_numpy(ct_feat_ort).cuda()\n",
    "center_pos_embedding_ort = torch.from_numpy(center_pos_embedding_ort).cuda()\n",
    "out_scores_ort = torch.from_numpy(out_scores_ort).cuda()\n",
    "out_labels_ort = torch.from_numpy(out_labels_ort).cuda()\n",
    "out_orders_ort = torch.from_numpy(out_orders_ort).cuda()\n",
    "out_masks_ort = torch.from_numpy(out_masks_ort).cuda()"
   ]
  },
  {
   "cell_type": "code",
   "execution_count": 35,
   "metadata": {},
   "outputs": [
    {
     "name": "stdout",
     "output_type": "stream",
     "text": [
      "tensor([0.0000, 0.0000, 0.4185, 0.2847, 0.0000, 0.0000, 0.0000, 0.0000, 0.2222,\n",
      "        0.9349], device='cuda:0')\n",
      "tensor([0.0000, 0.0000, 0.4185, 0.2847, 0.0000, 0.0000, 0.0000, 0.0000, 0.2222,\n",
      "        0.9349], device='cuda:0')\n"
     ]
    }
   ],
   "source": [
    "print(ct_feat[0][0][:10]) #torch\n",
    "print(ct_feat_ort[0][0][:10]) #onnxruntime"
   ]
  },
  {
   "cell_type": "code",
   "execution_count": 36,
   "metadata": {},
   "outputs": [
    {
     "ename": "AssertionError",
     "evalue": "Tensor-likes are not close!\n\nMismatched elements: 1098 / 768000 (0.1%)\nGreatest absolute difference: 1.414588212966919 at index (0, 1860, 115) (up to 1e-05 allowed)\nGreatest relative difference: inf at index (0, 1859, 0) (up to 0.001 allowed)",
     "output_type": "error",
     "traceback": [
      "\u001b[0;31m---------------------------------------------------------------------------\u001b[0m",
      "\u001b[0;31mAssertionError\u001b[0m                            Traceback (most recent call last)",
      "\u001b[1;32m/data/centerformer/work_dirs/partition/notebook/verify_onnx_functionality.ipynb Cell 10\u001b[0m line \u001b[0;36m1\n\u001b[0;32m----> <a href='vscode-notebook-cell://attached-container%2B7b22636f6e7461696e65724e616d65223a222f63665f747274227d@ssh-remote%2B7b22686f73744e616d65223a2273656d6f536572766572227d/data/centerformer/work_dirs/partition/notebook/verify_onnx_functionality.ipynb#X10sdnNjb2RlLXJlbW90ZQ%3D%3D?line=0'>1</a>\u001b[0m torch\u001b[39m.\u001b[39;49mtesting\u001b[39m.\u001b[39;49massert_close(ct_feat, ct_feat_ort, rtol\u001b[39m=\u001b[39;49m\u001b[39m1e-03\u001b[39;49m, atol\u001b[39m=\u001b[39;49m\u001b[39m1e-05\u001b[39;49m)\n",
      "File \u001b[0;32m~/anaconda3/envs/trt/lib/python3.9/site-packages/torch/testing/_comparison.py:1511\u001b[0m, in \u001b[0;36massert_close\u001b[0;34m(actual, expected, allow_subclasses, rtol, atol, equal_nan, check_device, check_dtype, check_layout, check_stride, msg)\u001b[0m\n\u001b[1;32m   1489\u001b[0m error_metas \u001b[39m=\u001b[39m not_close_error_metas(\n\u001b[1;32m   1490\u001b[0m     actual,\n\u001b[1;32m   1491\u001b[0m     expected,\n\u001b[0;32m   (...)\u001b[0m\n\u001b[1;32m   1506\u001b[0m     msg\u001b[39m=\u001b[39mmsg,\n\u001b[1;32m   1507\u001b[0m )\n\u001b[1;32m   1509\u001b[0m \u001b[39mif\u001b[39;00m error_metas:\n\u001b[1;32m   1510\u001b[0m     \u001b[39m# TODO: compose all metas into one AssertionError\u001b[39;00m\n\u001b[0;32m-> 1511\u001b[0m     \u001b[39mraise\u001b[39;00m error_metas[\u001b[39m0\u001b[39m]\u001b[39m.\u001b[39mto_error(msg)\n",
      "\u001b[0;31mAssertionError\u001b[0m: Tensor-likes are not close!\n\nMismatched elements: 1098 / 768000 (0.1%)\nGreatest absolute difference: 1.414588212966919 at index (0, 1860, 115) (up to 1e-05 allowed)\nGreatest relative difference: inf at index (0, 1859, 0) (up to 0.001 allowed)"
     ]
    }
   ],
   "source": [
    "torch.testing.assert_close(ct_feat, ct_feat_ort, rtol=1e-03, atol=1e-05)"
   ]
  },
  {
   "cell_type": "code",
   "execution_count": 37,
   "metadata": {},
   "outputs": [
    {
     "ename": "AssertionError",
     "evalue": "Tensor-likes are not close!\n\nMismatched elements: 1518 / 768000 (0.2%)\nGreatest absolute difference: 0.5689306855201721 at index (0, 2795, 80) (up to 1e-05 allowed)\nGreatest relative difference: 9840.962743437765 at index (0, 2795, 104) (up to 0.001 allowed)",
     "output_type": "error",
     "traceback": [
      "\u001b[0;31m---------------------------------------------------------------------------\u001b[0m",
      "\u001b[0;31mAssertionError\u001b[0m                            Traceback (most recent call last)",
      "\u001b[1;32m/data/centerformer/work_dirs/partition/notebook/verify_onnx_functionality.ipynb Cell 11\u001b[0m line \u001b[0;36m1\n\u001b[0;32m----> <a href='vscode-notebook-cell://attached-container%2B7b22636f6e7461696e65724e616d65223a222f63665f747274227d@ssh-remote%2B7b22686f73744e616d65223a2273656d6f536572766572227d/data/centerformer/work_dirs/partition/notebook/verify_onnx_functionality.ipynb#X13sdnNjb2RlLXJlbW90ZQ%3D%3D?line=0'>1</a>\u001b[0m torch\u001b[39m.\u001b[39;49mtesting\u001b[39m.\u001b[39;49massert_close(center_pos_embedding, center_pos_embedding_ort, rtol\u001b[39m=\u001b[39;49m\u001b[39m1e-03\u001b[39;49m, atol\u001b[39m=\u001b[39;49m\u001b[39m1e-05\u001b[39;49m)\n",
      "File \u001b[0;32m~/anaconda3/envs/trt/lib/python3.9/site-packages/torch/testing/_comparison.py:1511\u001b[0m, in \u001b[0;36massert_close\u001b[0;34m(actual, expected, allow_subclasses, rtol, atol, equal_nan, check_device, check_dtype, check_layout, check_stride, msg)\u001b[0m\n\u001b[1;32m   1489\u001b[0m error_metas \u001b[39m=\u001b[39m not_close_error_metas(\n\u001b[1;32m   1490\u001b[0m     actual,\n\u001b[1;32m   1491\u001b[0m     expected,\n\u001b[0;32m   (...)\u001b[0m\n\u001b[1;32m   1506\u001b[0m     msg\u001b[39m=\u001b[39mmsg,\n\u001b[1;32m   1507\u001b[0m )\n\u001b[1;32m   1509\u001b[0m \u001b[39mif\u001b[39;00m error_metas:\n\u001b[1;32m   1510\u001b[0m     \u001b[39m# TODO: compose all metas into one AssertionError\u001b[39;00m\n\u001b[0;32m-> 1511\u001b[0m     \u001b[39mraise\u001b[39;00m error_metas[\u001b[39m0\u001b[39m]\u001b[39m.\u001b[39mto_error(msg)\n",
      "\u001b[0;31mAssertionError\u001b[0m: Tensor-likes are not close!\n\nMismatched elements: 1518 / 768000 (0.2%)\nGreatest absolute difference: 0.5689306855201721 at index (0, 2795, 80) (up to 1e-05 allowed)\nGreatest relative difference: 9840.962743437765 at index (0, 2795, 104) (up to 0.001 allowed)"
     ]
    }
   ],
   "source": [
    "torch.testing.assert_close(center_pos_embedding, center_pos_embedding_ort, rtol=1e-03, atol=1e-05)"
   ]
  },
  {
   "cell_type": "code",
   "execution_count": 38,
   "metadata": {},
   "outputs": [],
   "source": [
    "torch.testing.assert_close(out_scores, out_scores_ort, rtol=1e-03, atol=1e-05)"
   ]
  },
  {
   "cell_type": "code",
   "execution_count": 39,
   "metadata": {},
   "outputs": [
    {
     "ename": "AssertionError",
     "evalue": "Tensor-likes are not close!\n\nMismatched elements: 2 / 3000 (0.1%)\nGreatest absolute difference: 1 at index (5, 0, 295) (up to 1e-05 allowed)\nGreatest relative difference: inf at index (5, 0, 295) (up to 0.001 allowed)",
     "output_type": "error",
     "traceback": [
      "\u001b[0;31m---------------------------------------------------------------------------\u001b[0m",
      "\u001b[0;31mAssertionError\u001b[0m                            Traceback (most recent call last)",
      "\u001b[1;32m/data/centerformer/work_dirs/partition/notebook/verify_onnx_functionality.ipynb Cell 13\u001b[0m line \u001b[0;36m1\n\u001b[0;32m----> <a href='vscode-notebook-cell://attached-container%2B7b22636f6e7461696e65724e616d65223a222f63665f747274227d@ssh-remote%2B7b22686f73744e616d65223a2273656d6f536572766572227d/data/centerformer/work_dirs/partition/notebook/verify_onnx_functionality.ipynb#X15sdnNjb2RlLXJlbW90ZQ%3D%3D?line=0'>1</a>\u001b[0m torch\u001b[39m.\u001b[39;49mtesting\u001b[39m.\u001b[39;49massert_close(out_labels, out_labels_ort, rtol\u001b[39m=\u001b[39;49m\u001b[39m1e-03\u001b[39;49m, atol\u001b[39m=\u001b[39;49m\u001b[39m1e-05\u001b[39;49m)\n",
      "File \u001b[0;32m~/anaconda3/envs/trt/lib/python3.9/site-packages/torch/testing/_comparison.py:1511\u001b[0m, in \u001b[0;36massert_close\u001b[0;34m(actual, expected, allow_subclasses, rtol, atol, equal_nan, check_device, check_dtype, check_layout, check_stride, msg)\u001b[0m\n\u001b[1;32m   1489\u001b[0m error_metas \u001b[39m=\u001b[39m not_close_error_metas(\n\u001b[1;32m   1490\u001b[0m     actual,\n\u001b[1;32m   1491\u001b[0m     expected,\n\u001b[0;32m   (...)\u001b[0m\n\u001b[1;32m   1506\u001b[0m     msg\u001b[39m=\u001b[39mmsg,\n\u001b[1;32m   1507\u001b[0m )\n\u001b[1;32m   1509\u001b[0m \u001b[39mif\u001b[39;00m error_metas:\n\u001b[1;32m   1510\u001b[0m     \u001b[39m# TODO: compose all metas into one AssertionError\u001b[39;00m\n\u001b[0;32m-> 1511\u001b[0m     \u001b[39mraise\u001b[39;00m error_metas[\u001b[39m0\u001b[39m]\u001b[39m.\u001b[39mto_error(msg)\n",
      "\u001b[0;31mAssertionError\u001b[0m: Tensor-likes are not close!\n\nMismatched elements: 2 / 3000 (0.1%)\nGreatest absolute difference: 1 at index (5, 0, 295) (up to 1e-05 allowed)\nGreatest relative difference: inf at index (5, 0, 295) (up to 0.001 allowed)"
     ]
    }
   ],
   "source": [
    "torch.testing.assert_close(out_labels, out_labels_ort, rtol=1e-03, atol=1e-05)"
   ]
  },
  {
   "cell_type": "code",
   "execution_count": 40,
   "metadata": {},
   "outputs": [
    {
     "ename": "AssertionError",
     "evalue": "Tensor-likes are not close!\n\nMismatched elements: 6 / 3000 (0.2%)\nGreatest absolute difference: 50219 at index (5, 0, 295) (up to 1e-05 allowed)\nGreatest relative difference: 2.1216118335723877 at index (3, 0, 360) (up to 0.001 allowed)",
     "output_type": "error",
     "traceback": [
      "\u001b[0;31m---------------------------------------------------------------------------\u001b[0m",
      "\u001b[0;31mAssertionError\u001b[0m                            Traceback (most recent call last)",
      "\u001b[1;32m/data/centerformer/work_dirs/partition/notebook/verify_onnx_functionality.ipynb Cell 14\u001b[0m line \u001b[0;36m1\n\u001b[0;32m----> <a href='vscode-notebook-cell://attached-container%2B7b22636f6e7461696e65724e616d65223a222f63665f747274227d@ssh-remote%2B7b22686f73744e616d65223a2273656d6f536572766572227d/data/centerformer/work_dirs/partition/notebook/verify_onnx_functionality.ipynb#X16sdnNjb2RlLXJlbW90ZQ%3D%3D?line=0'>1</a>\u001b[0m torch\u001b[39m.\u001b[39;49mtesting\u001b[39m.\u001b[39;49massert_close(out_orders, out_orders_ort, rtol\u001b[39m=\u001b[39;49m\u001b[39m1e-03\u001b[39;49m, atol\u001b[39m=\u001b[39;49m\u001b[39m1e-05\u001b[39;49m)\n",
      "File \u001b[0;32m~/anaconda3/envs/trt/lib/python3.9/site-packages/torch/testing/_comparison.py:1511\u001b[0m, in \u001b[0;36massert_close\u001b[0;34m(actual, expected, allow_subclasses, rtol, atol, equal_nan, check_device, check_dtype, check_layout, check_stride, msg)\u001b[0m\n\u001b[1;32m   1489\u001b[0m error_metas \u001b[39m=\u001b[39m not_close_error_metas(\n\u001b[1;32m   1490\u001b[0m     actual,\n\u001b[1;32m   1491\u001b[0m     expected,\n\u001b[0;32m   (...)\u001b[0m\n\u001b[1;32m   1506\u001b[0m     msg\u001b[39m=\u001b[39mmsg,\n\u001b[1;32m   1507\u001b[0m )\n\u001b[1;32m   1509\u001b[0m \u001b[39mif\u001b[39;00m error_metas:\n\u001b[1;32m   1510\u001b[0m     \u001b[39m# TODO: compose all metas into one AssertionError\u001b[39;00m\n\u001b[0;32m-> 1511\u001b[0m     \u001b[39mraise\u001b[39;00m error_metas[\u001b[39m0\u001b[39m]\u001b[39m.\u001b[39mto_error(msg)\n",
      "\u001b[0;31mAssertionError\u001b[0m: Tensor-likes are not close!\n\nMismatched elements: 6 / 3000 (0.2%)\nGreatest absolute difference: 50219 at index (5, 0, 295) (up to 1e-05 allowed)\nGreatest relative difference: 2.1216118335723877 at index (3, 0, 360) (up to 0.001 allowed)"
     ]
    }
   ],
   "source": [
    "torch.testing.assert_close(out_orders, out_orders_ort, rtol=1e-03, atol=1e-05)"
   ]
  },
  {
   "cell_type": "code",
   "execution_count": 41,
   "metadata": {},
   "outputs": [],
   "source": [
    "torch.testing.assert_close(out_masks, out_masks_ort, rtol=1e-03, atol=1e-05)"
   ]
  }
 ],
 "metadata": {
  "kernelspec": {
   "display_name": "trt",
   "language": "python",
   "name": "python3"
  },
  "language_info": {
   "codemirror_mode": {
    "name": "ipython",
    "version": 3
   },
   "file_extension": ".py",
   "mimetype": "text/x-python",
   "name": "python",
   "nbconvert_exporter": "python",
   "pygments_lexer": "ipython3",
   "version": "3.9.18"
  }
 },
 "nbformat": 4,
 "nbformat_minor": 2
}

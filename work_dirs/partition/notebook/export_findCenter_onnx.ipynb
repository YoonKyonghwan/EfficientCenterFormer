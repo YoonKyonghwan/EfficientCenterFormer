{
 "cells": [
  {
   "cell_type": "code",
   "execution_count": null,
   "metadata": {},
   "outputs": [],
   "source": [
    "import torch\n",
    "from det3d.torchie import Config\n",
    "\n",
    "import pickle\n",
    "\n",
    "config = \"/workspace/centerformer/configs/nusc/nuscenes_centerformer_poolformer.py\"\n",
    "\n",
    "cfg = Config.fromfile(config)\n",
    "FINDCENTER_GEN_ONNX = True\n",
    "POOLFORMER_GEN_ONNX = False"
   ]
  },
  {
   "cell_type": "code",
   "execution_count": null,
   "metadata": {},
   "outputs": [],
   "source": [
    "from det3d.models import build_detector\n",
    "from det3d.torchie.trainer import load_checkpoint\n",
    "\n",
    "checkpoint_path = \"/workspace/centerformer/work_dirs/nuscenes_poolformer/poolformer.pth\"\n",
    "\n",
    "model = build_detector(cfg.model, train_cfg=None, test_cfg=cfg.test_cfg)\n",
    "checkpoint = load_checkpoint(model, checkpoint_path, map_location=\"cpu\");"
   ]
  },
  {
   "cell_type": "code",
   "execution_count": null,
   "metadata": {},
   "outputs": [],
   "source": [
    "from torch import nn\n",
    "\n",
    "class CenterFinder(nn.Module):\n",
    "    def __init__(self, model):\n",
    "        super(CenterFinder, self).__init__()\n",
    "        self.model = model\n",
    "\n",
    "    def forward(self, x):\n",
    "        return self.model.neck.find_centers(x) \n",
    "    \n",
    "centerFinder = CenterFinder(model)\n",
    "# centerFinder.cuda()\n",
    "centerFinder.eval();"
   ]
  },
  {
   "cell_type": "code",
   "execution_count": null,
   "metadata": {},
   "outputs": [],
   "source": [
    "import pickle\n",
    "# with open(\"/workspace/centerformer/work_dirs/partition/sample_data/x.pkl\", 'wb') as handle:\n",
    "#     pickle.dump(x, handle)\n",
    "\n",
    "pickle_dir = \"/workspace/centerformer/work_dirs/partition/sample_data/\"\n",
    "\n",
    "with open(pickle_dir + \"findcenter_input.pkl\", 'rb') as handle:\n",
    "    x = pickle.load(handle)"
   ]
  },
  {
   "cell_type": "code",
   "execution_count": 5,
   "metadata": {},
   "outputs": [
    {
     "name": "stdout",
     "output_type": "stream",
     "text": [
      "tensor(True, device='cuda:0')\n",
      "tensor(True, device='cuda:0')\n"
     ]
    },
    {
     "name": "stderr",
     "output_type": "stream",
     "text": [
      "/root/anaconda3/envs/centerformer/lib/python3.9/site-packages/torch/_tensor.py:575: UserWarning: floor_divide is deprecated, and will be removed in a future version of pytorch. It currently rounds toward 0 (like the 'trunc' function NOT 'floor'). This results in incorrect rounding for negative values.\n",
      "To keep the current behavior, use torch.div(a, b, rounding_mode='trunc'), or for actual floor division, use torch.div(a, b, rounding_mode='floor'). (Triggered internally at  ../aten/src/ATen/native/BinaryOps.cpp:467.)\n",
      "  return torch.floor_divide(self, other)\n"
     ]
    }
   ],
   "source": [
    "with torch.no_grad():\n",
    "    ct_feat, center_pos_embedding, out_scores, out_labels, out_order, out_mask = centerFinder(x)"
   ]
  },
  {
   "cell_type": "code",
   "execution_count": 6,
   "metadata": {},
   "outputs": [
    {
     "name": "stderr",
     "output_type": "stream",
     "text": [
      "/data/centerformer/det3d/models/necks/rpn_transformer_multitask.py:942: TracerWarning: Converting a tensor to a NumPy array might cause the trace to be incorrect. We can't record the data flow of Python values, so this value will be treated as a constant in the future. This means that the trace might not generalize to other inputs!\n",
      "  scores = scores.detach().cpu().numpy()\n",
      "/data/centerformer/det3d/models/necks/rpn_transformer_multitask.py:944: TracerWarning: torch.from_numpy results are registered as constants in the trace. You can safely ignore this warning if you use this function to create tensors out of constant variables that would be the same every time you call this function. In any other case, this might cause the trace to be incorrect.\n",
      "  order = torch.from_numpy(order).to(labels.device)\n",
      "/data/centerformer/det3d/models/necks/rpn_transformer_multitask.py:945: TracerWarning: torch.from_numpy results are registered as constants in the trace. You can safely ignore this warning if you use this function to create tensors out of constant variables that would be the same every time you call this function. In any other case, this might cause the trace to be incorrect.\n",
      "  scores = torch.from_numpy(scores).to(labels.device)\n",
      "/root/anaconda3/envs/centerformer/lib/python3.9/site-packages/numpy/core/numeric.py:1779: TracerWarning: Converting a tensor to a Python boolean might cause the trace to be incorrect. We can't record the data flow of Python values, so this value will be treated as a constant in the future. This means that the trace might not generalize to other inputs!\n",
      "  idx = arange(dim, dtype=dtype).reshape(\n",
      "/root/anaconda3/envs/centerformer/lib/python3.9/site-packages/numpy/core/numeric.py:1779: TracerWarning: Converting a tensor to a Python float might cause the trace to be incorrect. We can't record the data flow of Python values, so this value will be treated as a constant in the future. This means that the trace might not generalize to other inputs!\n",
      "  idx = arange(dim, dtype=dtype).reshape(\n",
      "/data/centerformer/det3d/models/necks/rpn_transformer_multitask.py:974: TracerWarning: torch.from_numpy results are registered as constants in the trace. You can safely ignore this warning if you use this function to create tensors out of constant variables that would be the same every time you call this function. In any other case, this might cause the trace to be incorrect.\n",
      "  self.batch_id = torch.from_numpy(np.indices((batch, self.obj_num * len(self.tasks)))[0]).to(labels)\n",
      "/data/centerformer/det3d/models/necks/rpn_transformer_multitask.py:1022: TracerWarning: torch.tensor results are registered as constants in the trace. You can safely ignore this warning if you use this function to create tensors out of constant variables that would be the same every time you call this function. In any other case, this might cause the trace to be incorrect.\n",
      "  row_tensor = torch.tensor(tensor_list)\n",
      "Warning: Constant folding - Only steps=1 can be constant folded for opset >= 10 onnx::Slice op. Constant folding not applied.\n",
      "Warning: Constant folding - Only steps=1 can be constant folded for opset >= 10 onnx::Slice op. Constant folding not applied.\n",
      "/root/anaconda3/envs/centerformer/lib/python3.9/site-packages/torch/onnx/symbolic_opset9.py:2762: UserWarning: Exporting aten::index operator of advanced indexing in opset 11 is achieved by combination of multiple ONNX operators, including Reshape, Transpose, Concat, and Gather. If indices include negative values, the exported graph will produce incorrect results.\n",
      "  warnings.warn(\"Exporting aten::index operator of advanced indexing in opset \" +\n",
      "Warning: Constant folding - Only steps=1 can be constant folded for opset >= 10 onnx::Slice op. Constant folding not applied.\n",
      "Warning: Constant folding - Only steps=1 can be constant folded for opset >= 10 onnx::Slice op. Constant folding not applied.\n",
      "Warning: Constant folding - Only steps=1 can be constant folded for opset >= 10 onnx::Slice op. Constant folding not applied.\n",
      "Warning: Constant folding - Only steps=1 can be constant folded for opset >= 10 onnx::Slice op. Constant folding not applied.\n"
     ]
    },
    {
     "name": "stdout",
     "output_type": "stream",
     "text": [
      "\u001b[38;5;14m[I] RUNNING | Command: /root/anaconda3/envs/centerformer/bin/polygraphy surgeon sanitize findCenter.onnx --fold-constants --output findCenter_folded.onnx\u001b[0m\n",
      "[I] Loading model: /data/centerformer/work_dirs/partition/onnx/findCenter.onnx\n",
      "[I] Original Model:\n",
      "    Name: torch-jit-export | ONNX Opset: 11\n",
      "    \n",
      "    ---- 1 Graph Input(s) ----\n",
      "    {input_tensor [dtype=float32, shape=(1, 256, 180, 180)]}\n",
      "    \n",
      "    ---- 6 Graph Output(s) ----\n",
      "    {ct_feat [dtype=float32, shape=(1, 3000, 256)],\n",
      "     center_pos_embedding [dtype=float32, shape=(1, 3000, 256)],\n",
      "     out_scores [dtype=float32, shape=(6, 1, 500)],\n",
      "     out_labels [dtype=float32, shape=(6, 1, 500)],\n",
      "     out_order [dtype=float32, shape=(6, 1, 500)],\n",
      "     out_mask [dtype=float32, shape=(6, 1, 500)]}\n",
      "    \n",
      "    ---- 132 Initializer(s) ----\n",
      "    \n",
      "    ---- 641 Node(s) ----\n",
      "    \n",
      "\u001b[38;5;14m[I] Folding Constants | Pass 1\u001b[0m\n",
      "2023-12-13 07:02:01.796384892 [W:onnxruntime:, unsqueeze_elimination.cc:20 Apply] UnsqueezeElimination cannot remove node Unsqueeze_598\n",
      "2023-12-13 07:02:01.796397320 [W:onnxruntime:, unsqueeze_elimination.cc:20 Apply] UnsqueezeElimination cannot remove node Unsqueeze_126\n",
      "2023-12-13 07:02:01.796404931 [W:onnxruntime:, unsqueeze_elimination.cc:20 Apply] UnsqueezeElimination cannot remove node Unsqueeze_123\n",
      "2023-12-13 07:02:01.796436696 [W:onnxruntime:, unsqueeze_elimination.cc:20 Apply] UnsqueezeElimination cannot remove node Unsqueeze_117\n",
      "2023-12-13 07:02:01.796441951 [W:onnxruntime:, unsqueeze_elimination.cc:20 Apply] UnsqueezeElimination cannot remove node Unsqueeze_537\n",
      "2023-12-13 07:02:01.796444956 [W:onnxruntime:, unsqueeze_elimination.cc:20 Apply] UnsqueezeElimination cannot remove node Unsqueeze_536\n",
      "2023-12-13 07:02:01.796447873 [W:onnxruntime:, unsqueeze_elimination.cc:20 Apply] UnsqueezeElimination cannot remove node Unsqueeze_459\n",
      "2023-12-13 07:02:01.796452186 [W:onnxruntime:, unsqueeze_elimination.cc:20 Apply] UnsqueezeElimination cannot remove node Unsqueeze_458\n",
      "2023-12-13 07:02:01.796455586 [W:onnxruntime:, unsqueeze_elimination.cc:20 Apply] UnsqueezeElimination cannot remove node Unsqueeze_381\n",
      "2023-12-13 07:02:01.796458255 [W:onnxruntime:, unsqueeze_elimination.cc:20 Apply] UnsqueezeElimination cannot remove node Unsqueeze_380\n",
      "2023-12-13 07:02:01.796461491 [W:onnxruntime:, unsqueeze_elimination.cc:20 Apply] UnsqueezeElimination cannot remove node Unsqueeze_303\n",
      "2023-12-13 07:02:01.796464722 [W:onnxruntime:, unsqueeze_elimination.cc:20 Apply] UnsqueezeElimination cannot remove node Unsqueeze_302\n",
      "2023-12-13 07:02:01.796468217 [W:onnxruntime:, unsqueeze_elimination.cc:20 Apply] UnsqueezeElimination cannot remove node Unsqueeze_225\n",
      "2023-12-13 07:02:01.796471625 [W:onnxruntime:, unsqueeze_elimination.cc:20 Apply] UnsqueezeElimination cannot remove node Unsqueeze_224\n",
      "2023-12-13 07:02:01.796475134 [W:onnxruntime:, unsqueeze_elimination.cc:20 Apply] UnsqueezeElimination cannot remove node Unsqueeze_120\n",
      "2023-12-13 07:02:01.796478544 [W:onnxruntime:, unsqueeze_elimination.cc:20 Apply] UnsqueezeElimination cannot remove node Unsqueeze_147\n",
      "2023-12-13 07:02:01.796481729 [W:onnxruntime:, unsqueeze_elimination.cc:20 Apply] UnsqueezeElimination cannot remove node Unsqueeze_146\n",
      "\u001b[38;5;11m[W] It looks like this model contains foldable nodes that produce large outputs.\n",
      "In order to avoid bloating the model, you may want to set a constant-folding size threshold.\n",
      "Note: Large tensors and their corresponding sizes were: {'1412': '2 MiB', 'center_pos_embedding': '2 MiB'}\u001b[0m\n",
      "\u001b[38;5;10m[I]     Total Nodes | Original:   641, After Folding:   158 |   483 Nodes Folded\u001b[0m\n",
      "\u001b[38;5;14m[I] Folding Constants | Pass 2\u001b[0m\n",
      "\u001b[38;5;10m[I]     Total Nodes | Original:   158, After Folding:   158 |     0 Nodes Folded\u001b[0m\n",
      "[I] Saving ONNX model to: findCenter_folded.onnx\n",
      "[I] New Model:\n",
      "    Name: torch-jit-export | ONNX Opset: 11\n",
      "    \n",
      "    ---- 1 Graph Input(s) ----\n",
      "    {input_tensor [dtype=float32, shape=(1, 256, 180, 180)]}\n",
      "    \n",
      "    ---- 6 Graph Output(s) ----\n",
      "    {ct_feat [dtype=float32, shape=(1, 3000, 256)],\n",
      "     center_pos_embedding [dtype=float32, shape=(1, 3000, 256)],\n",
      "     out_scores [dtype=float32, shape=(6, 1, 500)],\n",
      "     out_labels [dtype=float32, shape=(6, 1, 500)],\n",
      "     out_order [dtype=float32, shape=(6, 1, 500)],\n",
      "     out_mask [dtype=float32, shape=(6, 1, 500)]}\n",
      "    \n",
      "    ---- 112 Initializer(s) ----\n",
      "    \n",
      "    ---- 158 Node(s) ----\n",
      "    \n",
      "\u001b[38;5;10m[I] PASSED | Runtime: 0.794s | Command: /root/anaconda3/envs/centerformer/bin/polygraphy surgeon sanitize findCenter.onnx --fold-constants --output findCenter_folded.onnx\u001b[0m\n",
      "gen findCenter.onnx success!\n"
     ]
    }
   ],
   "source": [
    "import onnx\n",
    "import numpy as np\n",
    "\n",
    "if FINDCENTER_GEN_ONNX:\n",
    "    model_name = \"findCenter.onnx\"\n",
    "    # dummy_input=torch.randn(x.shape, requires_grad=True).cuda()\n",
    "    dummy_input = torch.as_tensor(np.ones([1, 256, 180, 180]), dtype=torch.float32)\n",
    "    torch.onnx.export(centerFinder, (dummy_input), model_name,\n",
    "                input_names=['input_tensor'], \n",
    "                output_names=['ct_feat', 'center_pos_embedding', 'out_scores', 'out_labels', 'out_orders', 'out_masks'],\n",
    "                export_params=True, \n",
    "                do_constant_folding=True,\n",
    "                opset_version=17,\n",
    "                operator_export_type=torch.onnx.OperatorExportTypes.ONNX_ATEN_FALLBACK,\n",
    "                verbose=True,\n",
    "                )\n",
    "    \n",
    "    # !export POLYGRAPHY_AUTOINSTALL_DEPS=1\n",
    "    !polygraphy surgeon sanitize findCenter.onnx --fold-constants --output findCenter_folded.onnx\n",
    "\n",
    "    onnx.checker.check_model(onnx.load(\"findCenter_folded.onnx\"))\n",
    "    print(\"gen findCenter.onnx success!\")\n",
    "else:\n",
    "    print(\"pass\")"
   ]
  }
 ],
 "metadata": {
  "kernelspec": {
   "display_name": "centerformer",
   "language": "python",
   "name": "python3"
  },
  "language_info": {
   "codemirror_mode": {
    "name": "ipython",
    "version": 3
   },
   "file_extension": ".py",
   "mimetype": "text/x-python",
   "name": "python",
   "nbconvert_exporter": "python",
   "pygments_lexer": "ipython3",
   "version": "3.9.18"
  }
 },
 "nbformat": 4,
 "nbformat_minor": 2
}

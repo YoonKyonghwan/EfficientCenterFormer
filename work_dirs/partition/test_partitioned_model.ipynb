{
 "cells": [
  {
   "cell_type": "code",
   "execution_count": 1,
   "metadata": {},
   "outputs": [
    {
     "name": "stdout",
     "output_type": "stream",
     "text": [
      "Deformable Convolution not built!\n",
      "Deformable Convolution not built!\n",
      "Use HM Bias:  -2.19\n"
     ]
    },
    {
     "name": "stderr",
     "output_type": "stream",
     "text": [
      "/data/centerformer/det3d/core/bbox/geometry.py:149: NumbaDeprecationWarning: The keyword argument 'nopython=False' was supplied. From Numba 0.59.0 the default is being changed to True and use of 'nopython=False' will raise a warning as the argument will have no effect. See https://numba.readthedocs.io/en/stable/reference/deprecation.html#deprecation-of-object-mode-fall-back-behaviour-when-using-jit for details.\n",
      "  @numba.jit(nopython=False)\n",
      "/data/centerformer/det3d/core/bbox/geometry.py:162: NumbaDeprecationWarning: The keyword argument 'nopython=False' was supplied. From Numba 0.59.0 the default is being changed to True and use of 'nopython=False' will raise a warning as the argument will have no effect. See https://numba.readthedocs.io/en/stable/reference/deprecation.html#deprecation-of-object-mode-fall-back-behaviour-when-using-jit for details.\n",
      "  @numba.jit(nopython=False)\n",
      "/data/centerformer/det3d/core/bbox/geometry.py:280: NumbaDeprecationWarning: The 'nopython' keyword argument was not supplied to the 'numba.jit' decorator. The implicit default value for this argument is currently False, but it will be changed to True in Numba 0.59.0. See https://numba.readthedocs.io/en/stable/reference/deprecation.html#deprecation-of-object-mode-fall-back-behaviour-when-using-jit for details.\n",
      "  def points_in_convex_polygon_jit(points, polygon, clockwise=True):\n"
     ]
    }
   ],
   "source": [
    "import torch\n",
    "from det3d.torchie import Config\n",
    "from det3d.models import build_detector\n",
    "from det3d.torchie.trainer import load_checkpoint\n",
    "\n",
    "config = \"/workspace/centerformer/configs/nusc/nuscenes_centerformer_poolformer.py\"\n",
    "\n",
    "cfg = Config.fromfile(config)\n",
    "checkpoint_path = \"/workspace/centerformer/work_dirs/nuscenes_poolformer/poolformer.pth\"\n",
    "\n",
    "model = build_detector(cfg.model, train_cfg=None, test_cfg=cfg.test_cfg)\n",
    "checkpoint = load_checkpoint(model, checkpoint_path, map_location=\"cpu\")"
   ]
  },
  {
   "cell_type": "code",
   "execution_count": 2,
   "metadata": {},
   "outputs": [],
   "source": [
    "from torch import nn\n",
    "\n",
    "class CenterFinder(nn.Module):\n",
    "    def __init__(self, model):\n",
    "        super(CenterFinder, self).__init__()\n",
    "        self.model = model\n",
    "\n",
    "    def forward(self, x):\n",
    "        # x = self.model.neck(x)\n",
    "        # preds = self.model.bbox_head(x)\n",
    "        # return preds\n",
    "        return self.model.neck.find_centers(x) # pos_features, out_dict_list, ct_feat \n",
    "    \n",
    "centerFinder = CenterFinder(model)\n",
    "centerFinder.cuda()\n",
    "centerFinder.eval();"
   ]
  },
  {
   "cell_type": "code",
   "execution_count": 3,
   "metadata": {},
   "outputs": [],
   "source": [
    "import pickle\n",
    "# with open(\"/workspace/centerformer/work_dirs/partition/sample_data/x.pkl\", 'wb') as handle:\n",
    "#     pickle.dump(x, handle)\n",
    "\n",
    "pickle_dir = \"/workspace/centerformer/work_dirs/partition/sample_data/\"\n",
    "\n",
    "with open(pickle_dir + \"example.pkl\", 'rb') as handle:\n",
    "    example = pickle.load(handle)"
   ]
  },
  {
   "cell_type": "code",
   "execution_count": 4,
   "metadata": {},
   "outputs": [
    {
     "name": "stdout",
     "output_type": "stream",
     "text": [
      "tensor([[ 3.4004, -7.6160, -4.9076,  3.0000,  0.0000],\n",
      "        [ 3.4309, -7.5684, -4.8892,  5.0000,  0.0000],\n",
      "        [ 3.4336, -7.6233, -4.7427,  4.0000,  0.0752],\n",
      "        [ 4.6929, -7.6385, -4.2133,  3.0000,  0.0000],\n",
      "        [ 4.6846, -7.7457, -4.0402, 23.0000,  0.1253]], device='cuda:0')\n",
      "tensor([[ 3.4004, -7.6160, -4.9076,  3.0000,  0.0000],\n",
      "        [ 3.4309, -7.5684, -4.8892,  5.0000,  0.0000],\n",
      "        [ 3.4336, -7.6233, -4.7427,  4.0000,  0.0752],\n",
      "        [ 4.6929, -7.6385, -4.2133,  3.0000,  0.0000],\n",
      "        [ 4.6846, -7.7457, -4.0402, 23.0000,  0.1253]], device='cuda:0')\n",
      "tensor([[  0,   0, 618, 765],\n",
      "        [  0,   0, 619, 765],\n",
      "        [  0,   1, 618, 765],\n",
      "        [  0,   3, 618, 782],\n",
      "        [  0,   4, 616, 782]], device='cuda:0')\n",
      "tensor([[  0,   0, 618, 765],\n",
      "        [  0,   0, 619, 765],\n",
      "        [  0,   1, 618, 765],\n",
      "        [  0,   3, 618, 782],\n",
      "        [  0,   4, 616, 782]], device='cuda:0')\n"
     ]
    }
   ],
   "source": [
    "with torch.no_grad():\n",
    "    output = centerFinder.model.reader(example['points'])    \n",
    "    voxels, coors, shape = output\n",
    "    \n",
    "with open(pickle_dir + \"reader_output.pkl\", 'rb') as handle:\n",
    "    gt = pickle.load(handle)\n",
    "print(voxels[:5])\n",
    "print(gt[0][:5])\n",
    "print(coors[:5])\n",
    "print(gt[1][:5])"
   ]
  },
  {
   "cell_type": "code",
   "execution_count": 5,
   "metadata": {},
   "outputs": [],
   "source": [
    "with torch.no_grad():\n",
    "    x, _ = centerFinder.model.backbone(voxels,coors, len(example['points']), shape)"
   ]
  },
  {
   "cell_type": "code",
   "execution_count": 6,
   "metadata": {},
   "outputs": [
    {
     "name": "stdout",
     "output_type": "stream",
     "text": [
      "tensor(True, device='cuda:0')\n"
     ]
    },
    {
     "name": "stderr",
     "output_type": "stream",
     "text": [
      "/root/anaconda3/envs/centerformer/lib/python3.9/site-packages/torch/_tensor.py:575: UserWarning: floor_divide is deprecated, and will be removed in a future version of pytorch. It currently rounds toward 0 (like the 'trunc' function NOT 'floor'). This results in incorrect rounding for negative values.\n",
      "To keep the current behavior, use torch.div(a, b, rounding_mode='trunc'), or for actual floor division, use torch.div(a, b, rounding_mode='floor'). (Triggered internally at  ../aten/src/ATen/native/BinaryOps.cpp:467.)\n",
      "  return torch.floor_divide(self, other)\n"
     ]
    }
   ],
   "source": [
    "with open(pickle_dir + \"findcenter_input.pkl\", 'rb') as handle:\n",
    "    x = pickle.load(handle)\n",
    "\n",
    "with torch.no_grad():\n",
    "    ct_feat, center_pos_embedding, out_dict_list = centerFinder(x)\n",
    "    \n",
    "with open(pickle_dir + \"findcenter_output1.pkl\", 'rb') as handle:\n",
    "    gt = pickle.load(handle)\n",
    "\n",
    "print((ct_feat==gt).all())"
   ]
  },
  {
   "cell_type": "code",
   "execution_count": 7,
   "metadata": {},
   "outputs": [
    {
     "name": "stdout",
     "output_type": "stream",
     "text": [
      "tensor(True, device='cuda:0')\n",
      "tensor(True, device='cuda:0')\n"
     ]
    }
   ],
   "source": [
    "with torch.no_grad():\n",
    "    output = centerFinder.model.neck.poolformer_forward(ct_feat, center_pos_embedding)\n",
    "    num_tasks = centerFinder.model.neck.tasks\n",
    "    obj_num = centerFinder.model.neck.obj_num\n",
    "    for idx, task in enumerate(num_tasks):\n",
    "        out_dict_list[idx][\"ct_feat\"] = ct_feat[:, :, idx * obj_num : (idx+1) * obj_num]\n",
    "    \n",
    "with open(pickle_dir + \"poolformer_output.pkl\", 'rb') as handle:\n",
    "    output_poolformer = pickle.load(handle)\n",
    "with open(pickle_dir + \"neck_output.pkl\", 'rb') as handle:\n",
    "    neck_output = pickle.load(handle)\n",
    "    \n",
    "print((output_poolformer[0][0][:50] == output[0][0][:50]).all())\n",
    "print((out_dict_list[0]['hm']== neck_output[0]['hm']).all())"
   ]
  },
  {
   "cell_type": "code",
   "execution_count": 8,
   "metadata": {},
   "outputs": [
    {
     "name": "stdout",
     "output_type": "stream",
     "text": [
      "tensor(True, device='cuda:0')\n"
     ]
    }
   ],
   "source": [
    "with torch.no_grad():\n",
    "    preds = centerFinder.model.bbox_head(neck_output)\n",
    "    \n",
    "with open(pickle_dir + \"bbox_head_output.pkl\", 'rb') as handle:\n",
    "    bbox_head_output = pickle.load(handle)\n",
    "print((preds[0]['ct_feat'] == bbox_head_output[0]['ct_feat']).all())"
   ]
  },
  {
   "cell_type": "code",
   "execution_count": 9,
   "metadata": {},
   "outputs": [
    {
     "name": "stdout",
     "output_type": "stream",
     "text": [
      "tensor(True, device='cuda:0')\n",
      "tensor(True, device='cuda:0')\n",
      "tensor(True, device='cuda:0')\n"
     ]
    }
   ],
   "source": [
    "with torch.no_grad():\n",
    "    output = model.bbox_head.predict(example, preds, model.test_cfg)\n",
    "\n",
    "with open(pickle_dir + \"predict_output.pkl\", 'rb') as handle:\n",
    "    predict_output = pickle.load(handle)\n",
    "\n",
    "print((output[0]['box3d_lidar'] ==predict_output[0]['box3d_lidar']).all())\n",
    "print((output[0]['scores'] ==predict_output[0]['scores']).all())\n",
    "print((output[0]['label_preds'] ==predict_output[0]['label_preds']).all())"
   ]
  }
 ],
 "metadata": {
  "kernelspec": {
   "display_name": "centerformer",
   "language": "python",
   "name": "python3"
  },
  "language_info": {
   "codemirror_mode": {
    "name": "ipython",
    "version": 3
   },
   "file_extension": ".py",
   "mimetype": "text/x-python",
   "name": "python",
   "nbconvert_exporter": "python",
   "pygments_lexer": "ipython3",
   "version": "3.9.18"
  }
 },
 "nbformat": 4,
 "nbformat_minor": 2
}

{
 "cells": [
  {
   "cell_type": "code",
   "execution_count": null,
   "metadata": {},
   "outputs": [],
   "source": [
    "import torch\n",
    "from det3d.torchie import Config\n",
    "\n",
    "import pickle\n",
    "\n",
    "config = \"/workspace/centerformer/configs/nusc/nuscenes_centerformer_poolformer.py\"\n",
    "\n",
    "cfg = Config.fromfile(config)\n",
    "FINDCENTER_GEN_ONNX = True\n",
    "POOLFORMER_GEN_ONNX = False"
   ]
  },
  {
   "cell_type": "code",
   "execution_count": null,
   "metadata": {},
   "outputs": [],
   "source": [
    "from det3d.models import build_detector\n",
    "from det3d.torchie.trainer import load_checkpoint\n",
    "\n",
    "checkpoint_path = \"/workspace/centerformer/work_dirs/nuscenes_poolformer/poolformer.pth\"\n",
    "\n",
    "model = build_detector(cfg.model, train_cfg=None, test_cfg=cfg.test_cfg)\n",
    "checkpoint = load_checkpoint(model, checkpoint_path, map_location=\"cpu\");"
   ]
  },
  {
   "cell_type": "code",
   "execution_count": null,
   "metadata": {},
   "outputs": [],
   "source": [
    "from torch import nn\n",
    "\n",
    "class CenterFinder(nn.Module):\n",
    "    def __init__(self, model):\n",
    "        super(CenterFinder, self).__init__()\n",
    "        self.model = model\n",
    "\n",
    "    def forward(self, x):\n",
    "        return self.model.neck.find_centers(x) \n",
    "    \n",
    "centerFinder = CenterFinder(model)\n",
    "# centerFinder.cuda()\n",
    "centerFinder.eval();"
   ]
  },
  {
   "cell_type": "code",
   "execution_count": null,
   "metadata": {},
   "outputs": [],
   "source": [
    "import onnx\n",
    "import numpy as np\n",
    "\n",
    "if FINDCENTER_GEN_ONNX:\n",
    "    model_name = \"findCenter.onnx\"\n",
    "    # dummy_input=torch.randn(x.shape, requires_grad=True).cuda()\n",
    "    dummy_input = torch.as_tensor(np.ones([1, 256, 180, 180]), dtype=torch.float32)\n",
    "    torch.onnx.export(centerFinder, (dummy_input), model_name,\n",
    "                input_names=['input_tensor'], \n",
    "                output_names=['ct_feat', 'center_pos_embedding', 'out_scores', 'out_labels', 'out_orders', 'out_masks'],\n",
    "                export_params=True, \n",
    "                do_constant_folding=True,\n",
    "                opset_version=17,\n",
    "                operator_export_type=torch.onnx.OperatorExportTypes.ONNX_ATEN_FALLBACK,\n",
    "                verbose=True,\n",
    "                )\n",
    "    \n",
    "    # !export POLYGRAPHY_AUTOINSTALL_DEPS=1\n",
    "    !polygraphy surgeon sanitize findCenter.onnx --fold-constants --output findCenter_folded.onnx\n",
    "\n",
    "    onnx.checker.check_model(onnx.load(\"findCenter_folded.onnx\"))\n",
    "    print(\"gen findCenter.onnx success!\")\n",
    "else:\n",
    "    print(\"pass\")"
   ]
  }
 ],
 "metadata": {
  "kernelspec": {
   "display_name": "centerformer",
   "language": "python",
   "name": "python3"
  },
  "language_info": {
   "codemirror_mode": {
    "name": "ipython",
    "version": 3
   },
   "file_extension": ".py",
   "mimetype": "text/x-python",
   "name": "python",
   "nbconvert_exporter": "python",
   "pygments_lexer": "ipython3",
   "version": "3.9.18"
  }
 },
 "nbformat": 4,
 "nbformat_minor": 2
}

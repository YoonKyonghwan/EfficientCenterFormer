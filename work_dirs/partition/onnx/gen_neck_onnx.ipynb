{
 "cells": [
  {
   "cell_type": "code",
   "execution_count": 1,
   "metadata": {},
   "outputs": [],
   "source": [
    "import torch\n",
    "from det3d.torchie import Config\n",
    "\n",
    "import pickle\n",
    "\n",
    "config = \"/workspace/centerformer/configs/nusc/nuscenes_centerformer_poolformer.py\"\n",
    "\n",
    "cfg = Config.fromfile(config)\n",
    "FINDCENTER_GEN_ONNX = False\n",
    "POOLFORMER_GEN_ONNX = False"
   ]
  },
  {
   "cell_type": "code",
   "execution_count": 2,
   "metadata": {},
   "outputs": [
    {
     "name": "stdout",
     "output_type": "stream",
     "text": [
      "Deformable Convolution not built!\n",
      "Deformable Convolution not built!\n",
      "Use HM Bias:  -2.19\n"
     ]
    },
    {
     "name": "stderr",
     "output_type": "stream",
     "text": [
      "/data/centerformer/det3d/core/bbox/geometry.py:149: NumbaDeprecationWarning: The keyword argument 'nopython=False' was supplied. From Numba 0.59.0 the default is being changed to True and use of 'nopython=False' will raise a warning as the argument will have no effect. See https://numba.readthedocs.io/en/stable/reference/deprecation.html#deprecation-of-object-mode-fall-back-behaviour-when-using-jit for details.\n",
      "  @numba.jit(nopython=False)\n",
      "/data/centerformer/det3d/core/bbox/geometry.py:162: NumbaDeprecationWarning: The keyword argument 'nopython=False' was supplied. From Numba 0.59.0 the default is being changed to True and use of 'nopython=False' will raise a warning as the argument will have no effect. See https://numba.readthedocs.io/en/stable/reference/deprecation.html#deprecation-of-object-mode-fall-back-behaviour-when-using-jit for details.\n",
      "  @numba.jit(nopython=False)\n",
      "/data/centerformer/det3d/core/bbox/geometry.py:280: NumbaDeprecationWarning: The 'nopython' keyword argument was not supplied to the 'numba.jit' decorator. The implicit default value for this argument is currently False, but it will be changed to True in Numba 0.59.0. See https://numba.readthedocs.io/en/stable/reference/deprecation.html#deprecation-of-object-mode-fall-back-behaviour-when-using-jit for details.\n",
      "  def points_in_convex_polygon_jit(points, polygon, clockwise=True):\n"
     ]
    }
   ],
   "source": [
    "from det3d.models import build_detector\n",
    "from det3d.torchie.trainer import load_checkpoint\n",
    "\n",
    "checkpoint_path = \"/workspace/centerformer/work_dirs/nuscenes_poolformer/poolformer.pth\"\n",
    "\n",
    "model = build_detector(cfg.model, train_cfg=None, test_cfg=cfg.test_cfg)\n",
    "checkpoint = load_checkpoint(model, checkpoint_path, map_location=\"cpu\");"
   ]
  },
  {
   "cell_type": "code",
   "execution_count": 3,
   "metadata": {},
   "outputs": [],
   "source": [
    "from torch import nn\n",
    "\n",
    "class CenterFinder(nn.Module):\n",
    "    def __init__(self, model):\n",
    "        super(CenterFinder, self).__init__()\n",
    "        self.model = model\n",
    "\n",
    "    def forward(self, x):\n",
    "        # x = self.model.neck(x)\n",
    "        # preds = self.model.bbox_head(x)\n",
    "        # return preds\n",
    "        return self.model.neck.find_centers(x) # pos_features, out_dict_list, ct_feat \n",
    "    \n",
    "centerFinder = CenterFinder(model)\n",
    "centerFinder.cuda()\n",
    "centerFinder.eval();"
   ]
  },
  {
   "cell_type": "code",
   "execution_count": 4,
   "metadata": {},
   "outputs": [],
   "source": [
    "import pickle\n",
    "# with open(\"/workspace/centerformer/work_dirs/partition/sample_data/x.pkl\", 'wb') as handle:\n",
    "#     pickle.dump(x, handle)\n",
    "# with open(\"/workspace/centerformer/work_dirs/partition/sample_data/example.pkl\", 'wb') as handle:\n",
    "#     pickle.dump(example, handle)\n",
    "\n",
    "pickle_dir = \"/workspace/centerformer/work_dirs/partition/sample_data/\"\n",
    "\n",
    "with open(pickle_dir + \"findcenter_input.pkl\", 'rb') as handle:\n",
    "    x = pickle.load(handle)\n",
    "# with open(pickle_dir + \"example.pkl\", 'rb') as handle:\n",
    "#     example = pickle.load(handle)"
   ]
  },
  {
   "cell_type": "code",
   "execution_count": 5,
   "metadata": {},
   "outputs": [
    {
     "name": "stdout",
     "output_type": "stream",
     "text": [
      "tensor(True, device='cuda:0')\n",
      "tensor(True, device='cuda:0')\n"
     ]
    },
    {
     "name": "stderr",
     "output_type": "stream",
     "text": [
      "/root/anaconda3/envs/centerformer/lib/python3.9/site-packages/torch/_tensor.py:575: UserWarning: floor_divide is deprecated, and will be removed in a future version of pytorch. It currently rounds toward 0 (like the 'trunc' function NOT 'floor'). This results in incorrect rounding for negative values.\n",
      "To keep the current behavior, use torch.div(a, b, rounding_mode='trunc'), or for actual floor division, use torch.div(a, b, rounding_mode='floor'). (Triggered internally at  ../aten/src/ATen/native/BinaryOps.cpp:467.)\n",
      "  return torch.floor_divide(self, other)\n"
     ]
    }
   ],
   "source": [
    "with torch.no_grad():\n",
    "    ct_feat, center_pos_embedding, out_dict_list = centerFinder(x)\n",
    "    \n",
    "with open(pickle_dir + \"findcenter_output1.pkl\", 'rb') as handle:\n",
    "    output1 = pickle.load(handle)\n",
    "with open(pickle_dir + \"findcenter_output2.pkl\", 'rb') as handle:\n",
    "    output2 = pickle.load(handle)\n",
    "with open(pickle_dir + \"findcenter_output3.pkl\", 'rb') as handle:\n",
    "    output3 = pickle.load(handle)\n",
    "    \n",
    "    \n",
    "print((output1 == ct_feat).all())\n",
    "print((output2 == center_pos_embedding).all())"
   ]
  },
  {
   "cell_type": "code",
   "execution_count": 6,
   "metadata": {},
   "outputs": [
    {
     "name": "stdout",
     "output_type": "stream",
     "text": [
      "pass\n"
     ]
    }
   ],
   "source": [
    "import onnx\n",
    "\n",
    "if FINDCENTER_GEN_ONNX:\n",
    "    model_name = \"findCenter.onnx\"\n",
    "    torch.onnx.export(centerFinder, x, model_name, do_constant_folding=True,\n",
    "                export_params=True, opset_version=11)\n",
    "    \n",
    "    # !export POLYGRAPHY_AUTOINSTALL_DEPS=1\n",
    "    !polygraphy surgeon sanitize findCenter.onnx --fold-constants --output findCenter_folded.onnx\n",
    "\n",
    "    onnx.checker.check_model(onnx.load(\"findCenter_folded.onnx\"))\n",
    "    print(\"gen findCenter.onnx success!\")\n",
    "else:\n",
    "    print(\"pass\")"
   ]
  },
  {
   "cell_type": "code",
   "execution_count": 7,
   "metadata": {},
   "outputs": [],
   "source": [
    "del centerFinder\n",
    "\n",
    "class NeckPoolformer(nn.Module):\n",
    "    def __init__(self, model):\n",
    "        super(NeckPoolformer, self).__init__()\n",
    "        self.model = model\n",
    "\n",
    "    def forward(self, ct_feat, center_pos):\n",
    "        return self.model.neck.poolformer_forward(ct_feat, center_pos) # pos_features, out_dict_list, ct_feat \n",
    "    \n",
    "poolformer = NeckPoolformer(model)\n",
    "poolformer.cuda()\n",
    "poolformer.eval();"
   ]
  },
  {
   "cell_type": "code",
   "execution_count": 8,
   "metadata": {},
   "outputs": [
    {
     "name": "stdout",
     "output_type": "stream",
     "text": [
      "tensor(True, device='cuda:0')\n"
     ]
    }
   ],
   "source": [
    "with torch.no_grad():\n",
    "    output = poolformer(ct_feat, center_pos_embedding)\n",
    "    \n",
    "with open(pickle_dir + \"poolformer_output.pkl\", 'rb') as handle:\n",
    "    output_poolformer = pickle.load(handle)\n",
    "    \n",
    "print((output_poolformer[0][0][:50] == output[0][0][:50]).all())"
   ]
  },
  {
   "cell_type": "code",
   "execution_count": 9,
   "metadata": {},
   "outputs": [
    {
     "name": "stdout",
     "output_type": "stream",
     "text": [
      "pass\n"
     ]
    }
   ],
   "source": [
    "if POOLFORMER_GEN_ONNX:\n",
    "    model_name = \"poolformer.onnx\"\n",
    "    torch.onnx.export(poolformer, (ct_feat, center_pos_embedding), model_name, do_constant_folding=True,\n",
    "                export_params=True, opset_version=11)\n",
    "\n",
    "\n",
    "    !polygraphy surgeon sanitize poolformer.onnx --fold-constants --output poolformer_folded.onnx\n",
    "\n",
    "    onnx.checker.check_model(onnx.load(\"poolformer_folded.onnx\"))\n",
    "    print(\"gen poolformer.onnx success!\")\n",
    "else:\n",
    "    print(\"pass\")"
   ]
  },
  {
   "cell_type": "code",
   "execution_count": 10,
   "metadata": {},
   "outputs": [],
   "source": [
    "# import torchvision.models as models\n",
    "\n",
    "# resnet50_gpu = models.resnet50(pretrained=True, progress=False).to(\"cuda\")\n",
    "# resnet50_gpu"
   ]
  }
 ],
 "metadata": {
  "kernelspec": {
   "display_name": "centerformer",
   "language": "python",
   "name": "python3"
  },
  "language_info": {
   "codemirror_mode": {
    "name": "ipython",
    "version": 3
   },
   "file_extension": ".py",
   "mimetype": "text/x-python",
   "name": "python",
   "nbconvert_exporter": "python",
   "pygments_lexer": "ipython3",
   "version": "3.9.18"
  }
 },
 "nbformat": 4,
 "nbformat_minor": 2
}

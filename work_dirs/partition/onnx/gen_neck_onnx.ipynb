{
 "cells": [
  {
   "cell_type": "code",
   "execution_count": null,
   "metadata": {},
   "outputs": [],
   "source": [
    "import torch\n",
    "from det3d.torchie import Config\n",
    "\n",
    "import pickle\n",
    "\n",
    "config = \"/workspace/centerformer/configs/nusc/nuscenes_centerformer_poolformer.py\"\n",
    "\n",
    "cfg = Config.fromfile(config)\n",
    "FINDCENTER_GEN_ONNX = True\n",
    "POOLFORMER_GEN_ONNX = False"
   ]
  },
  {
   "cell_type": "code",
   "execution_count": null,
   "metadata": {},
   "outputs": [],
   "source": [
    "from det3d.models import build_detector\n",
    "from det3d.torchie.trainer import load_checkpoint\n",
    "\n",
    "checkpoint_path = \"/workspace/centerformer/work_dirs/nuscenes_poolformer/poolformer.pth\"\n",
    "\n",
    "model = build_detector(cfg.model, train_cfg=None, test_cfg=cfg.test_cfg)\n",
    "checkpoint = load_checkpoint(model, checkpoint_path, map_location=\"cpu\");"
   ]
  },
  {
   "cell_type": "code",
   "execution_count": null,
   "metadata": {},
   "outputs": [],
   "source": [
    "from torch import nn\n",
    "\n",
    "class CenterFinder(nn.Module):\n",
    "    def __init__(self, model):\n",
    "        super(CenterFinder, self).__init__()\n",
    "        self.model = model\n",
    "\n",
    "    def forward(self, x):\n",
    "        # x = self.model.neck(x)\n",
    "        # preds = self.model.bbox_head(x)\n",
    "        # return preds\n",
    "        return self.model.neck.find_centers(x) # pos_features, out_dict_list, ct_feat \n",
    "    \n",
    "centerFinder = CenterFinder(model)\n",
    "# centerFinder.cuda()\n",
    "centerFinder.eval();"
   ]
  },
  {
   "cell_type": "code",
   "execution_count": null,
   "metadata": {},
   "outputs": [],
   "source": [
    "import pickle\n",
    "# with open(\"/workspace/centerformer/work_dirs/partition/sample_data/x.pkl\", 'wb') as handle:\n",
    "#     pickle.dump(x, handle)\n",
    "# with open(\"/workspace/centerformer/work_dirs/partition/sample_data/example.pkl\", 'wb') as handle:\n",
    "#     pickle.dump(example, handle)\n",
    "\n",
    "pickle_dir = \"/workspace/centerformer/work_dirs/partition/sample_data/\"\n",
    "\n",
    "with open(pickle_dir + \"findcenter_input.pkl\", 'rb') as handle:\n",
    "    x = pickle.load(handle)\n",
    "# with open(pickle_dir + \"example.pkl\", 'rb') as handle:\n",
    "#     example = pickle.load(handle)"
   ]
  },
  {
   "cell_type": "code",
   "execution_count": null,
   "metadata": {},
   "outputs": [],
   "source": [
    "with torch.no_grad():\n",
    "    ct_feat, center_pos_embedding, out_scores, out_labels, out_orders, out_masks = centerFinder(x)\n",
    "    \n",
    "with open(pickle_dir + \"findcenter_output1.pkl\", 'rb') as handle:\n",
    "    output1 = pickle.load(handle)\n",
    "with open(pickle_dir + \"findcenter_output2.pkl\", 'rb') as handle:\n",
    "    output2 = pickle.load(handle)\n",
    "with open(pickle_dir + \"findcenter_output3.pkl\", 'rb') as handle:\n",
    "    output3 = pickle.load(handle)\n",
    "    \n",
    "print((output1 == ct_feat).all())\n",
    "print((output2 == center_pos_embedding).all())\n",
    "print(ct_feat[0][0][:10])\n",
    "print(output1[0][0][:10])"
   ]
  },
  {
   "cell_type": "code",
   "execution_count": null,
   "metadata": {},
   "outputs": [],
   "source": [
    "import onnx\n",
    "import numpy as np\n",
    "\n",
    "if FINDCENTER_GEN_ONNX:\n",
    "    model_name = \"findCenter.onnx\"\n",
    "    # dummy_input=torch.randn(x.shape, requires_grad=True).cuda()\n",
    "    dummy_input = torch.as_tensor(np.ones([1, 256, 180, 180]), dtype=torch.float32)\n",
    "    torch.onnx.export(centerFinder, (dummy_input), model_name,\n",
    "                input_names=['input_tensor'], \n",
    "                output_names=['ct_feat', 'center_pos_embedding', 'out_scores', 'out_labels', 'out_orders', 'out_masks'],\n",
    "                export_params=True, \n",
    "                do_constant_folding=True,\n",
    "                opset_version=11,\n",
    "                )\n",
    "    \n",
    "    # !export POLYGRAPHY_AUTOINSTALL_DEPS=1\n",
    "    !polygraphy surgeon sanitize findCenter.onnx --fold-constants --output findCenter_folded.onnx\n",
    "\n",
    "    onnx.checker.check_model(onnx.load(\"findCenter_folded.onnx\"))\n",
    "    print(\"gen findCenter.onnx success!\")\n",
    "else:\n",
    "    print(\"pass\")"
   ]
  },
  {
   "cell_type": "code",
   "execution_count": null,
   "metadata": {},
   "outputs": [],
   "source": [
    "dummy_input.shape"
   ]
  },
  {
   "cell_type": "code",
   "execution_count": null,
   "metadata": {},
   "outputs": [],
   "source": [
    "with torch.no_grad():\n",
    "    ct_feat = centerFinder.model.neck.poolformer_forward(ct_feat, center_pos_embedding)\n",
    "            \n",
    "out_dict_list = []\n",
    "num_tasks = len(centerFinder.model.neck.tasks)\n",
    "obj_num = centerFinder.model.neck.obj_num\n",
    "for idx in range(num_tasks):\n",
    "    out_dict = {}\n",
    "    out_dict.update(\n",
    "        {\n",
    "            \"scores\": out_scores[idx],\n",
    "            \"labels\": out_labels[idx],\n",
    "            \"order\": out_orders[idx],\n",
    "            \"mask\": out_masks[idx],\n",
    "            \"ct_feat\": ct_feat[:, :, idx * obj_num : (idx+1) * obj_num],\n",
    "        }\n",
    "    )\n",
    "    out_dict_list.append(out_dict)"
   ]
  },
  {
   "cell_type": "code",
   "execution_count": null,
   "metadata": {},
   "outputs": [],
   "source": [
    "with open(pickle_dir + \"neck_output.pkl\", 'rb') as handle:\n",
    "    output_poolformer = pickle.load(handle)"
   ]
  },
  {
   "cell_type": "code",
   "execution_count": null,
   "metadata": {},
   "outputs": [],
   "source": [
    "out_dict_list[0].keys()"
   ]
  },
  {
   "cell_type": "code",
   "execution_count": null,
   "metadata": {},
   "outputs": [],
   "source": [
    "for i in range(len(out_dict_list)):\n",
    "    print(i)\n",
    "    print('scores', (output_poolformer[i]['scores']==out_dict_list[i]['scores']).all())\n",
    "    print('labels', (output_poolformer[i]['labels']==out_dict_list[i]['labels']).all())\n",
    "    print('orders', (output_poolformer[i]['order']==out_dict_list[i]['order']).all())\n",
    "    print('masks', (output_poolformer[i]['mask']==out_dict_list[i]['mask']).all())\n",
    "    print('ct_feat', (output_poolformer[i]['ct_feat']==out_dict_list[i]['ct_feat']).all())"
   ]
  },
  {
   "cell_type": "code",
   "execution_count": null,
   "metadata": {},
   "outputs": [],
   "source": [
    "(output_poolformer[i]['mask']==out_dict_list[i]['mask'])"
   ]
  }
 ],
 "metadata": {
  "kernelspec": {
   "display_name": "centerformer",
   "language": "python",
   "name": "python3"
  },
  "language_info": {
   "codemirror_mode": {
    "name": "ipython",
    "version": 3
   },
   "file_extension": ".py",
   "mimetype": "text/x-python",
   "name": "python",
   "nbconvert_exporter": "python",
   "pygments_lexer": "ipython3",
   "version": "3.9.18"
  }
 },
 "nbformat": 4,
 "nbformat_minor": 2
}
